{
 "cells": [
  {
   "cell_type": "code",
   "execution_count": 182,
   "metadata": {},
   "outputs": [],
   "source": [
    "import networkx as nx\n",
    "import matplotlib.pyplot as plt\n",
    "import numpy as np\n",
    "from IPython.display import Image\n",
    "\n"
   ]
  },
  {
   "cell_type": "markdown",
   "metadata": {},
   "source": [
    "## Visualize the TreeNode "
   ]
  },
  {
   "cell_type": "code",
   "execution_count": 183,
   "metadata": {},
   "outputs": [
    {
     "data": {
      "text/html": [
       "<img src=\"Pictures/Treenode.png\"/>"
      ],
      "text/plain": [
       "<IPython.core.display.Image object>"
      ]
     },
     "execution_count": 183,
     "metadata": {},
     "output_type": "execute_result"
    }
   ],
   "source": [
    "Image(url='Pictures/Treenode.png')\n",
    "\n"
   ]
  },
  {
   "cell_type": "markdown",
   "metadata": {},
   "source": [
    "## Create the class Node :"
   ]
  },
  {
   "cell_type": "code",
   "execution_count": 142,
   "metadata": {},
   "outputs": [],
   "source": [
    "class Node:\n",
    "    def __init__(self, x):\n",
    "        self.val = x\n",
    "        self.children = []\n",
    "        self.parent = None\n",
    "\n",
    "    def add_child(self, child):\n",
    "        self.children.append(child)\n",
    "        child.parent = self\n",
    "    \n",
    "    def get_children(self):\n",
    "        return self.children\n",
    "    \n",
    "    "
   ]
  },
  {
   "cell_type": "markdown",
   "metadata": {},
   "source": [
    "## We make the TreeNode"
   ]
  },
  {
   "cell_type": "code",
   "execution_count": 143,
   "metadata": {},
   "outputs": [],
   "source": [
    "paris = Node(\"Paris\")\n",
    "burdeos = Node(\"Burdeos\")\n",
    "estrasburgo = Node(\"Estrasburgo\")\n",
    "san_sebastian = Node(\"San Sebastian\")\n",
    "lyon = Node(\"Lyon\")\n",
    "ginebra = Node(\"Ginebra\")\n",
    "barcelona = Node(\"Barcelona\")\n",
    "grenoble = Node(\"Grenoble\")\n",
    "cannes = Node(\"Cannes\")\n",
    "\n",
    "\n",
    "\n",
    "paris.add_child(burdeos)\n",
    "paris.add_child(estrasburgo)\n",
    "\n",
    "\n",
    "burdeos.add_child(san_sebastian)\n",
    "burdeos.add_child(lyon)\n",
    "\n",
    "estrasburgo.add_child(ginebra)\n",
    "estrasburgo.add_child(lyon)\n",
    "\n",
    "san_sebastian.add_child(barcelona)\n",
    "\n",
    "lyon.add_child(grenoble)\n",
    "\n",
    "ginebra.add_child(cannes)\n",
    "\n",
    "barcelona.add_child(cannes)\n",
    "\n",
    "grenoble.add_child(cannes)\n"
   ]
  },
  {
   "cell_type": "markdown",
   "metadata": {},
   "source": [
    "## We make the bfs algorithm "
   ]
  },
  {
   "cell_type": "code",
   "execution_count": 153,
   "metadata": {},
   "outputs": [],
   "source": [
    "start_node = paris \n",
    "end_node = cannes\n",
    "\n",
    "\n",
    "def bfs(start_node, end_node):\n",
    "    queue = [[start_node]]\n",
    "\n",
    "    visited = set()\n",
    "    while queue:\n",
    "        path = queue.pop(0)\n",
    "        node = path[-1]\n",
    "        if node in visited:\n",
    "            continue\n",
    "        visited.add(node)\n",
    "        if node == end_node:\n",
    "            return path\n",
    "        for child in node.get_children():\n",
    "            new_path = list(path)\n",
    "            new_path.append(child)\n",
    "            queue.append(new_path)\n",
    "    return None\n",
    "\n",
    "\n",
    "    \n"
   ]
  },
  {
   "cell_type": "code",
   "execution_count": 154,
   "metadata": {},
   "outputs": [],
   "source": [
    "path = bfs(start_node, end_node)"
   ]
  },
  {
   "cell_type": "code",
   "execution_count": 180,
   "metadata": {},
   "outputs": [
    {
     "name": "stdout",
     "output_type": "stream",
     "text": [
      "Paris\n",
      "Estrasburgo\n",
      "Ginebra\n",
      "Cannes\n"
     ]
    }
   ],
   "source": [
    "for node in path:\n",
    "    print(node.val)"
   ]
  },
  {
   "cell_type": "code",
   "execution_count": 184,
   "metadata": {},
   "outputs": [
    {
     "data": {
      "text/html": [
       "<img src=\"Pictures/bfs_solution.png\"/>"
      ],
      "text/plain": [
       "<IPython.core.display.Image object>"
      ]
     },
     "execution_count": 184,
     "metadata": {},
     "output_type": "execute_result"
    }
   ],
   "source": [
    "Image(url='Pictures/bfs_solution.png')"
   ]
  },
  {
   "cell_type": "code",
   "execution_count": null,
   "metadata": {},
   "outputs": [],
   "source": []
  },
  {
   "cell_type": "code",
   "execution_count": null,
   "metadata": {},
   "outputs": [],
   "source": []
  },
  {
   "cell_type": "code",
   "execution_count": null,
   "metadata": {},
   "outputs": [],
   "source": []
  },
  {
   "cell_type": "code",
   "execution_count": null,
   "metadata": {},
   "outputs": [],
   "source": []
  }
 ],
 "metadata": {
  "kernelspec": {
   "display_name": ".venv",
   "language": "python",
   "name": "python3"
  },
  "language_info": {
   "codemirror_mode": {
    "name": "ipython",
    "version": 3
   },
   "file_extension": ".py",
   "mimetype": "text/x-python",
   "name": "python",
   "nbconvert_exporter": "python",
   "pygments_lexer": "ipython3",
   "version": "3.10.2"
  }
 },
 "nbformat": 4,
 "nbformat_minor": 2
}
