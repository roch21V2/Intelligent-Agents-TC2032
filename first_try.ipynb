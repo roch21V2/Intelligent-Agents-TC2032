{
 "cells": [
  {
   "cell_type": "markdown",
   "metadata": {},
   "source": [
    "### Import the libraries \n"
   ]
  },
  {
   "cell_type": "code",
   "execution_count": 112,
   "metadata": {},
   "outputs": [],
   "source": [
    "import numpy as np \n",
    "import matplotlib.pyplot as plt"
   ]
  },
  {
   "cell_type": "markdown",
   "metadata": {},
   "source": [
    "### Cargamos los datos "
   ]
  },
  {
   "cell_type": "code",
   "execution_count": 113,
   "metadata": {},
   "outputs": [
    {
     "name": "stdout",
     "output_type": "stream",
     "text": [
      "#############\n",
      "#S          #\n",
      "### # # ### #\n",
      "#   # # #   #\n",
      "# ### ### ###\n",
      "#     #     #\n",
      "##### # #####\n",
      "#   # #   ###\n",
      "# ### ###   #\n",
      "#     #   E #\n",
      "#############\n",
      "\n"
     ]
    }
   ],
   "source": [
    "coordinates = {}\n",
    "maze = []\n",
    "with open ('maze2.txt', 'r') as f:\n",
    "    for line in f:\n",
    "        maze.append(line.strip())\n",
    "        print(line.strip())\n",
    "    \n",
    "rows = len(maze[0])\n",
    "cols = len(maze)-1"
   ]
  },
  {
   "cell_type": "code",
   "execution_count": 114,
   "metadata": {},
   "outputs": [],
   "source": [
    "maze_dict = {}\n",
    "for i in range(cols):\n",
    "    for j in range(rows):\n",
    "        maze_dict[(i,j)] = maze[i][j]"
   ]
  },
  {
   "cell_type": "code",
   "execution_count": 115,
   "metadata": {},
   "outputs": [],
   "source": [
    "def generate_maze_image(maze_dict):\n",
    "    \n",
    "    max_row = max(maze_dict.keys(), key = lambda x: x[0])[0]+1\n",
    "    max_col = max(maze_dict.keys(), key = lambda x: x[1])[1]+1\n",
    "\n",
    "    image = np.zeros((max_row, max_col, 3), dtype = np.uint8)\n",
    "\n",
    "    colors = {'#': [0,0,0], ' ': [255,255,255], 'S': [0,255,0], 'E': [255,0,0]}\n",
    "\n",
    "    for (row,col), state in maze_dict.items():\n",
    "        color = colors.get(state, [255,255,255])\n",
    "        image[row, col] = color\n",
    "\n",
    "    plt.imshow(image)\n",
    "    plt.axis('off')\n",
    "    plt.title('Maze Visualization')\n",
    "    plt.show()\n"
   ]
  },
  {
   "cell_type": "code",
   "execution_count": 116,
   "metadata": {},
   "outputs": [
    {
     "data": {
      "image/png": "[encoded data removed]",
      "text/plain": [
       "<Figure size 640x480 with 1 Axes>"
      ]
     },
     "metadata": {},
     "output_type": "display_data"
    }
   ],
   "source": [
    "generate_maze_image(maze_dict)"
   ]
  },
  {
   "cell_type": "code",
   "execution_count": null,
   "metadata": {},
   "outputs": [],
   "source": [
    "class Agent:\n",
    "    def __init__(self, maze_dict):\n",
    "        self.maze_dict = maze_dict\n",
    "        self.current_position = self.get_position('S')\n",
    "        self.end_position = self.get_position('E')\n",
    "    \n",
    "    def get_position(self, state):\n",
    "        for position, value in self.maze_dict.items():\n",
    "            if value == state:\n",
    "                return position\n",
    "    \n",
    "    def get_possible_moves(self, position):\n",
    "        x, y = position\n",
    "        moves = [(x+1, y), (x-1, y), (x, y+1), (x, y-1)]\n",
    "        valid_moves = []\n",
    "        for move in moves:\n",
    "            if self.maze_dict.get(tuple(move)) != '#':\n",
    "                valid_moves.append(move)\n",
    "        return valid_moves\n",
    "     \n",
    "    def bfs(self):\n",
    "        visited = []\n",
    "        queue = [[self.current_position]]\n",
    "        while queue:\n",
    "            path = queue.pop(0)\n",
    "            node = path[-1]\n",
    "\n",
    "            if node not in visited:\n",
    "                possible_moves = self.get_possible_moves(node)\n",
    "                for move in possible_moves:\n",
    "                    new_path = list(path)\n",
    "                    new_path.append(move)\n",
    "                    queue.append(new_path)\n",
    "                    if move == self.end_position:\n",
    "                        return new_path\n",
    "                visited.append(node)\n",
    "        return None\n"
   ]
  },
  {
   "cell_type": "code",
   "execution_count": 138,
   "metadata": {},
   "outputs": [
    {
     "name": "stdout",
     "output_type": "stream",
     "text": [
      "[(1, 2)]\n"
     ]
    }
   ],
   "source": [
    "agente1 = Agent(maze_dict)\n",
    "print(agente1.get_possible_moves(agente1.current_position))\n"
   ]
  },
  {
   "cell_type": "code",
   "execution_count": 142,
   "metadata": {},
   "outputs": [
    {
     "name": "stdout",
     "output_type": "stream",
     "text": [
      "[(1, 1), (1, 2), (1, 3), (1, 4), (1, 5), (1, 6), (1, 7), (1, 8), (1, 9), (1, 10), (1, 11), (2, 11), (3, 11), (3, 10), (3, 9), (4, 9), (5, 9), (5, 8), (5, 7), (6, 7), (7, 7), (7, 8), (7, 9), (8, 9), (9, 9), (9, 10)]\n"
     ]
    }
   ],
   "source": [
    "path = agente1.bfs()\n",
    "print(path)"
   ]
  },
  {
   "cell_type": "code",
   "execution_count": 143,
   "metadata": {},
   "outputs": [],
   "source": [
    "# Visualize the path\n",
    "\n",
    "\n",
    "def Visualize_path(path, maze_dict):\n",
    "    max_row = max(maze_dict.keys(), key = lambda x: x[0])[0]+1\n",
    "    max_col = max(maze_dict.keys(), key = lambda x: x[1])[1]+1\n",
    "\n",
    "    image = np.zeros((max_row, max_col, 3), dtype = np.uint8)\n",
    "\n",
    "    colors = {'#': [0,0,0], ' ': [255,255,255], 'S': [0,255,0], 'E': [255,0,0], 'X': [0,0,255]}\n",
    "\n",
    "    for (row,col), state in maze_dict.items():\n",
    "        color = colors.get(state, [255,255,255])\n",
    "        image[row, col] = color\n",
    "\n",
    "    \n",
    "    for position in path:\n",
    "        image[position] = colors['X']\n",
    "\n",
    "    plt.imshow(image)\n",
    "    plt.axis('off')\n",
    "    plt.title('Maze Visualization')\n",
    "    plt.show()\n",
    "    \n"
   ]
  },
  {
   "cell_type": "code",
   "execution_count": 145,
   "metadata": {},
   "outputs": [
    {
     "data": {
      "image/png": "[encoded data removed]",
      "text/plain": [
       "<Figure size 640x480 with 1 Axes>"
      ]
     },
     "metadata": {},
     "output_type": "display_data"
    }
   ],
   "source": [
    "Visualize_path(path, maze_dict)"
   ]
  },
  {
   "cell_type": "code",
   "execution_count": null,
   "metadata": {},
   "outputs": [],
   "source": []
  },
  {
   "cell_type": "code",
   "execution_count": null,
   "metadata": {},
   "outputs": [],
   "source": []
  },
  {
   "cell_type": "code",
   "execution_count": null,
   "metadata": {},
   "outputs": [],
   "source": []
  }
 ],
 "metadata": {
  "kernelspec": {
   "display_name": ".venv",
   "language": "python",
   "name": "python3"
  },
  "language_info": {
   "codemirror_mode": {
    "name": "ipython",
    "version": 3
   },
   "file_extension": ".py",
   "mimetype": "text/x-python",
   "name": "python",
   "nbconvert_exporter": "python",
   "pygments_lexer": "ipython3",
   "version": "3.10.2"
  }
 },
 "nbformat": 4,
 "nbformat_minor": 2
}
