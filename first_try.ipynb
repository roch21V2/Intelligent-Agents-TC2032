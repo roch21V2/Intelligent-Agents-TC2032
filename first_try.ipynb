{
 "cells": [
  {
   "cell_type": "markdown",
   "metadata": {},
   "source": [
    "### Import the libraries \n"
   ]
  },
  {
   "cell_type": "code",
   "execution_count": 46,
   "metadata": {},
   "outputs": [],
   "source": [
    "import numpy as np \n",
    "import PIL\n",
    "import matplotlib.pyplot as plt"
   ]
  },
  {
   "cell_type": "markdown",
   "metadata": {},
   "source": [
    "### Cargamos los datos "
   ]
  },
  {
   "cell_type": "code",
   "execution_count": 55,
   "metadata": {},
   "outputs": [
    {
     "name": "stdout",
     "output_type": "stream",
     "text": [
      "#############\n",
      "#S          #\n",
      "### # # ### #\n",
      "#   # # #   #\n",
      "# ### ### ###\n",
      "#     #     #\n",
      "##### # #####\n",
      "#   # #   ###\n",
      "# ### ###   #\n",
      "#     #   E #\n",
      "#############\n",
      "\n"
     ]
    }
   ],
   "source": [
    "coordinates = {}\n",
    "maze = []\n",
    "with open ('maze2.txt', 'r') as f:\n",
    "    for line in f:\n",
    "        maze.append(line.strip())\n",
    "        print(line.strip())\n",
    "    \n",
    "rows = len(maze[0])\n",
    "cols = len(maze)-1"
   ]
  },
  {
   "cell_type": "code",
   "execution_count": 56,
   "metadata": {},
   "outputs": [],
   "source": [
    "maze_dict = {}\n",
    "for i in range(cols):\n",
    "    for j in range(rows):\n",
    "        maze_dict[(i,j)] = maze[i][j]"
   ]
  },
  {
   "cell_type": "code",
   "execution_count": 57,
   "metadata": {},
   "outputs": [],
   "source": [
    "def generate_maze_image(maze_dict):\n",
    "    \n",
    "    max_row = max(maze_dict.keys(), key = lambda x: x[0])[0]+1\n",
    "    max_col = max(maze_dict.keys(), key = lambda x: x[1])[1]+1\n",
    "\n",
    "    image = np.zeros((max_row, max_col, 3), dtype = np.uint8)\n",
    "\n",
    "    colors = {'#': [0,0,0], ' ': [255,255,255], 'S': [0,255,0], 'E': [255,0,0]}\n",
    "\n",
    "    for (row,col), state in maze_dict.items():\n",
    "        color = colors.get(state, [255,255,255])\n",
    "        image[row, col] = color\n",
    "\n",
    "    plt.imshow(image)\n",
    "    plt.axis('off')\n",
    "    plt.title('Maze Visualization')\n",
    "    plt.show()\n"
   ]
  },
  {
   "cell_type": "code",
   "execution_count": 58,
   "metadata": {},
   "outputs": [
    {
     "data": {
      "image/png": "[encoded data removed]",
      "text/plain": [
       "<Figure size 640x480 with 1 Axes>"
      ]
     },
     "metadata": {},
     "output_type": "display_data"
    }
   ],
   "source": [
    "generate_maze_image(maze_dict)"
   ]
  },
  {
   "cell_type": "code",
   "execution_count": null,
   "metadata": {},
   "outputs": [],
   "source": []
  },
  {
   "cell_type": "code",
   "execution_count": null,
   "metadata": {},
   "outputs": [],
   "source": []
  }
 ],
 "metadata": {
  "kernelspec": {
   "display_name": ".venv",
   "language": "python",
   "name": "python3"
  },
  "language_info": {
   "codemirror_mode": {
    "name": "ipython",
    "version": 3
   },
   "file_extension": ".py",
   "mimetype": "text/x-python",
   "name": "python",
   "nbconvert_exporter": "python",
   "pygments_lexer": "ipython3",
   "version": "3.10.2"
  }
 },
 "nbformat": 4,
 "nbformat_minor": 2
}
