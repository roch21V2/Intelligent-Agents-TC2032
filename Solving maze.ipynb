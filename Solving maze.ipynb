{
 "cells": [
  {
   "cell_type": "markdown",
   "metadata": {},
   "source": [
    "# Import the libraries \n"
   ]
  },
  {
   "cell_type": "code",
   "execution_count": 309,
   "metadata": {},
   "outputs": [],
   "source": [
    "import numpy as np \n",
    "import matplotlib.pyplot as plt"
   ]
  },
  {
   "cell_type": "code",
   "execution_count": 310,
   "metadata": {},
   "outputs": [],
   "source": [
    "def load_maze(maze_file):\n",
    "    maze = []\n",
    "    with open(maze_file, 'r') as f:\n",
    "        for line in f:\n",
    "            maze.append(line.strip())\n",
    "    \n",
    "        rows = len(maze[0])\n",
    "        cols = len(maze)-1\n",
    "\n",
    "        return maze, rows, cols"
   ]
  },
  {
   "cell_type": "markdown",
   "metadata": {},
   "source": [
    "### We load the maze2.txt\n"
   ]
  },
  {
   "cell_type": "code",
   "execution_count": 311,
   "metadata": {},
   "outputs": [],
   "source": [
    "maze, rows, cols = load_maze('Mazes/maze2.txt')"
   ]
  },
  {
   "cell_type": "code",
   "execution_count": 312,
   "metadata": {},
   "outputs": [],
   "source": [
    "# Generate coordinates for the maze\n",
    "def generate_coordinates(maze,rows, cols):\n",
    "    maze_dict = {}\n",
    "    for i in range(cols):\n",
    "        for j in range(rows):\n",
    "            maze_dict[(i,j)] = maze[i][j]\n",
    "    return maze_dict"
   ]
  },
  {
   "cell_type": "code",
   "execution_count": 313,
   "metadata": {},
   "outputs": [],
   "source": [
    "\n",
    "maze_dict = generate_coordinates(maze,rows, cols)"
   ]
  },
  {
   "cell_type": "code",
   "execution_count": 314,
   "metadata": {},
   "outputs": [],
   "source": [
    "# Generate the maze image\n",
    "def generate_maze_image(maze_dict):\n",
    "    \n",
    "    max_row = max(maze_dict.keys(), key = lambda x: x[0])[0]+1\n",
    "    max_col = max(maze_dict.keys(), key = lambda x: x[1])[1]+1\n",
    "\n",
    "    image = np.zeros((max_row, max_col, 3), dtype = np.uint8)\n",
    "\n",
    "    colors = {'#': [0,0,0], ' ': [255,255,255], 'S': [0,255,0], 'E': [255,0,0]}\n",
    "\n",
    "    for (row,col), state in maze_dict.items():\n",
    "        color = colors.get(state, [255,255,255])\n",
    "        image[row, col] = color\n",
    "\n",
    "    plt.imshow(image)\n",
    "    plt.axis('off')\n",
    "    plt.title('Maze Visualization')\n",
    "    plt.show()\n"
   ]
  },
  {
   "cell_type": "markdown",
   "metadata": {},
   "source": [
    "## Create the image of the maze2.txt"
   ]
  },
  {
   "cell_type": "code",
   "execution_count": 315,
   "metadata": {},
   "outputs": [
    {
     "data": {
      "image/png": "[encoded data removed]",
      "text/plain": [
       "<Figure size 640x480 with 1 Axes>"
      ]
     },
     "metadata": {},
     "output_type": "display_data"
    }
   ],
   "source": [
    "generate_maze_image(maze_dict)"
   ]
  },
  {
   "cell_type": "code",
   "execution_count": 331,
   "metadata": {},
   "outputs": [],
   "source": [
    "class Agent:\n",
    "    def __init__(self, maze_dict):\n",
    "        self.maze_dict = maze_dict\n",
    "        self.current_position = self.get_position('S')\n",
    "        self.end_position = self.get_position('E')\n",
    "    \n",
    "    def get_position(self, state):\n",
    "        for position, value in self.maze_dict.items():\n",
    "            if value == state:\n",
    "                return position\n",
    "    \n",
    "    def get_possible_moves(self, position):\n",
    "        x, y = position\n",
    "        moves = [(x+1, y), (x-1, y), (x, y+1), (x, y-1)]\n",
    "        valid_moves = []\n",
    "        for move in moves:\n",
    "            if self.maze_dict.get(tuple(move)) != '#':\n",
    "                valid_moves.append(move)\n",
    "        return valid_moves\n",
    "     \n",
    "    def bfs(self):\n",
    "        visited = []\n",
    "        queue = [[self.current_position]]\n",
    "        while queue:\n",
    "            path = queue.pop(0)\n",
    "            node = path[-1]\n",
    "            if node not in visited:\n",
    "                for move in self.get_possible_moves(node):\n",
    "                    new_path = list(path)\n",
    "                    new_path.append(move)\n",
    "                    queue.append(new_path)\n",
    "                    if move == self.end_position:\n",
    "                        return new_path\n",
    "                visited.append(node)\n"
   ]
  },
  {
   "cell_type": "code",
   "execution_count": 332,
   "metadata": {},
   "outputs": [],
   "source": [
    "agent1 = Agent(maze_dict)\n",
    "path = agent1.bfs()\n",
    "path.remove(path[0])\n",
    "path.remove(path[-1])\n"
   ]
  },
  {
   "cell_type": "code",
   "execution_count": 333,
   "metadata": {},
   "outputs": [],
   "source": [
    "# Visualize the path\n",
    "\n",
    "def Visualize_path(path, maze_dict):\n",
    "    max_row = max(maze_dict.keys(), key = lambda x: x[0])[0]+1\n",
    "    max_col = max(maze_dict.keys(), key = lambda x: x[1])[1]+1\n",
    "\n",
    "    image = np.zeros((max_row, max_col, 3), dtype = np.uint8)\n",
    "\n",
    "    colors = {'#': [0,0,0], ' ': [255,255,255], 'S': [0,255,0], 'E': [255,0,0], 'X': [0,0,255]}\n",
    "\n",
    "    for (row,col), state in maze_dict.items():\n",
    "        color = colors.get(state, [255,255,255])\n",
    "        image[row, col] = color\n",
    "\n",
    "    \n",
    "    for position in path:\n",
    "        image[position] = colors['X']\n",
    "\n",
    "    plt.imshow(image)\n",
    "    plt.axis('off')\n",
    "    plt.title('Maze Visualization')\n",
    "    plt.show()\n",
    "    \n"
   ]
  },
  {
   "cell_type": "code",
   "execution_count": 334,
   "metadata": {},
   "outputs": [
    {
     "data": {
      "image/png": "[encoded data removed]",
      "text/plain": [
       "<Figure size 640x480 with 1 Axes>"
      ]
     },
     "metadata": {},
     "output_type": "display_data"
    }
   ],
   "source": [
    "Visualize_path(path, maze_dict)"
   ]
  },
  {
   "cell_type": "markdown",
   "metadata": {},
   "source": [
    "## We load maze3.txt\n"
   ]
  },
  {
   "cell_type": "code",
   "execution_count": 335,
   "metadata": {},
   "outputs": [
    {
     "name": "stdout",
     "output_type": "stream",
     "text": [
      "[(1, 2), (1, 3), (1, 4), (1, 5), (1, 6), (1, 7), (1, 8), (1, 9), (1, 10), (1, 11), (1, 12), (1, 13), (1, 14), (1, 15), (1, 16), (1, 17), (1, 18), (1, 19), (1, 20), (1, 21), (1, 22), (1, 23), (1, 24), (1, 25), (1, 26), (1, 27), (1, 28), (1, 29), (2, 29), (3, 29), (3, 28), (3, 27), (4, 27), (5, 27), (6, 27), (7, 27), (8, 27), (9, 27), (9, 28), (9, 29), (10, 29), (11, 29), (11, 28), (11, 27), (11, 26), (11, 25), (11, 24), (11, 23), (11, 22), (11, 21), (12, 21), (13, 21), (13, 22), (13, 23), (14, 23), (15, 23), (15, 24), (15, 25), (14, 25), (13, 25), (13, 26), (13, 27), (13, 28), (13, 29), (14, 29), (15, 29), (15, 28), (15, 27), (16, 27), (17, 27), (18, 27), (19, 27), (19, 28)]\n"
     ]
    }
   ],
   "source": [
    "maze, rows, cols = load_maze('Mazes/maze3.txt')\n",
    "cols = cols+1\n",
    "maze_dict = generate_coordinates(maze,rows, cols)\n",
    "agent2 = Agent(maze_dict)\n",
    "path = agent2.bfs()\n",
    "\n",
    "path.remove(path[0])\n",
    "path.remove(path[-1])\n",
    "\n",
    "print(path)\n"
   ]
  },
  {
   "cell_type": "code",
   "execution_count": 336,
   "metadata": {},
   "outputs": [
    {
     "data": {
      "image/png": "[encoded data removed]",
      "text/plain": [
       "<Figure size 640x480 with 1 Axes>"
      ]
     },
     "metadata": {},
     "output_type": "display_data"
    }
   ],
   "source": [
    "generate_maze_image(maze_dict)"
   ]
  },
  {
   "cell_type": "code",
   "execution_count": 330,
   "metadata": {},
   "outputs": [
    {
     "data": {
      "image/png": "[encoded data removed]",
      "text/plain": [
       "<Figure size 640x480 with 1 Axes>"
      ]
     },
     "metadata": {},
     "output_type": "display_data"
    }
   ],
   "source": [
    "Visualize_path(path, maze_dict)"
   ]
  }
 ],
 "metadata": {
  "kernelspec": {
   "display_name": ".venv",
   "language": "python",
   "name": "python3"
  },
  "language_info": {
   "codemirror_mode": {
    "name": "ipython",
    "version": 3
   },
   "file_extension": ".py",
   "mimetype": "text/x-python",
   "name": "python",
   "nbconvert_exporter": "python",
   "pygments_lexer": "ipython3",
   "version": "3.10.2"
  }
 },
 "nbformat": 4,
 "nbformat_minor": 2
}
