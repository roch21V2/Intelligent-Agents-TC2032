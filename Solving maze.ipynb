{
 "cells": [
  {
   "cell_type": "markdown",
   "metadata": {},
   "source": [
    "\n",
    "## Notebook Explanation: Breadth-First Search (BFS) Algorithm for Maze Solving\n",
    "\n",
    "This notebook showcases an implementation of the Breadth-First Search (BFS) algorithm and the Depth First Search (DFS), a classic uninformed search technique, to solve a maze. The purpose of the notebook is to demonstrate how BFS can be effectively used to navigate through a maze and find the shortest path from a starting point to a goal.\n",
    "\n",
    "\n",
    "- Uninformed Search:\n",
    "    BFS is an example of an uninformed search algorithm, meaning it explores the maze without any prior knowledge of the goal's location. Instead, it uses a systematic approach, exploring nodes level by level.\n",
    "\n",
    "- Breadth-First Search (BFS):\n",
    "    BFS explores all the neighboring nodes at the present depth before moving on to nodes at the next level of depth.\n",
    "    It uses a queue data structure (FIFO) to keep track of nodes to visit next, ensuring it examines nodes in the order they are discovered.\n",
    "\n",
    "*Implementation Steps*\n",
    "\n",
    "- Maze Representation:\n",
    "    The maze is represented as a grid (a dictionary where the keys are the coordinates and the items are the states) where each cell can be a wall, an open path, a start point, or a goal.\n",
    "    Commonly, ' '  may denote open paths, '#' walls, and special markers for start and goal positions.\n",
    "\n",
    "- BFS Algorithm:\n",
    "    The BFS starts from the initial position (start point) and explores each neighboring cell (up, down, left, right).\n",
    "    It checks if the current cell is the goal. If not, it marks the cell as visited and adds its neighbors to the queue.\n",
    "    The process continues until it reaches the goal or exhausts all possible paths, indicating the goal is unreachable.\n",
    "\n"
   ]
  },
  {
   "cell_type": "markdown",
   "metadata": {},
   "source": [
    "### Import the libraries"
   ]
  },
  {
   "cell_type": "code",
   "execution_count": 24,
   "metadata": {},
   "outputs": [],
   "source": [
    "import numpy as np \n",
    "import matplotlib.pyplot as plt "
   ]
  },
  {
   "cell_type": "code",
   "execution_count": 25,
   "metadata": {},
   "outputs": [],
   "source": [
    "def load_maze(maze_file):\n",
    "    maze = []\n",
    "    with open(maze_file, 'r') as f:\n",
    "        for line in f:\n",
    "            maze.append(line.strip())\n",
    "    \n",
    "        rows = len(maze[0])\n",
    "        cols = len(maze)\n",
    "\n",
    "        return maze, rows, cols"
   ]
  },
  {
   "cell_type": "markdown",
   "metadata": {},
   "source": [
    "### We load the maze2.txt\n"
   ]
  },
  {
   "cell_type": "code",
   "execution_count": 26,
   "metadata": {},
   "outputs": [],
   "source": [
    "maze, rows, cols = load_maze('Mazes/maze2.txt')"
   ]
  },
  {
   "cell_type": "code",
   "execution_count": 27,
   "metadata": {},
   "outputs": [],
   "source": [
    "# Generate coordinates for the maze\n",
    "def generate_coordinates(maze,rows, cols):\n",
    "    maze_dict = {}\n",
    "    for i in range(cols):\n",
    "        for j in range(rows):\n",
    "            maze_dict[(i,j)] = maze[i][j]\n",
    "    return maze_dict"
   ]
  },
  {
   "cell_type": "code",
   "execution_count": 28,
   "metadata": {},
   "outputs": [],
   "source": [
    "\n",
    "maze_dict = generate_coordinates(maze,rows, cols)\n"
   ]
  },
  {
   "cell_type": "code",
   "execution_count": 29,
   "metadata": {},
   "outputs": [],
   "source": [
    "# Generate the maze image\n",
    "def generate_maze_image(maze_dict):\n",
    "    \n",
    "    max_row = max(maze_dict.keys(), key = lambda x: x[0])[0]+1\n",
    "    max_col = max(maze_dict.keys(), key = lambda x: x[1])[1]+1\n",
    "\n",
    "    image = np.zeros((max_row, max_col, 3), dtype = np.uint8)\n",
    "\n",
    "    colors = {'#': [0,0,0], ' ': [255,255,255], 'S': [0,255,0], 'E': [255,0,0]}\n",
    "\n",
    "    for (row,col), state in maze_dict.items():\n",
    "        color = colors.get(state, [255,255,255])\n",
    "        image[row, col] = color\n",
    "\n",
    "    plt.imshow(image)\n",
    "    plt.axis('off')\n",
    "    plt.title('Maze Visualization')\n",
    "    plt.show()\n"
   ]
  },
  {
   "cell_type": "markdown",
   "metadata": {},
   "source": [
    "## Create the image of the maze2.txt"
   ]
  },
  {
   "cell_type": "code",
   "execution_count": 30,
   "metadata": {},
   "outputs": [
    {
     "data": {
      "image/png": "[encoded data removed]",
      "text/plain": [
       "<Figure size 640x480 with 1 Axes>"
      ]
     },
     "metadata": {},
     "output_type": "display_data"
    }
   ],
   "source": [
    "generate_maze_image(maze_dict)"
   ]
  },
  {
   "cell_type": "markdown",
   "metadata": {},
   "source": [
    "## Create the Agent class"
   ]
  },
  {
   "cell_type": "code",
   "execution_count": 31,
   "metadata": {},
   "outputs": [],
   "source": [
    "class Agent:\n",
    "    def __init__(self, maze_dict):\n",
    "        self.maze_dict = maze_dict\n",
    "        self.current_position = self.get_position('S')\n",
    "        self.end_position = self.get_position('E')\n",
    "    \n",
    "    def get_position(self, state):\n",
    "        for position, value in self.maze_dict.items():\n",
    "            if value == state:\n",
    "                return position\n",
    "    \n",
    "    def get_possible_moves(self, position):\n",
    "        x, y = position\n",
    "        moves = [(x+1, y), (x-1, y), (x, y+1), (x, y-1)]\n",
    "        valid_moves = []\n",
    "        for move in moves:\n",
    "            if self.maze_dict.get(tuple(move)) != '#':\n",
    "                valid_moves.append(move)\n",
    "        return valid_moves\n",
    "     \n",
    "    def bfs(self):\n",
    "        visited = set()\n",
    "        queue = [[self.current_position]]\n",
    "        while queue:\n",
    "            path = queue.pop(0)\n",
    "            node = path[-1]\n",
    "            if node not in visited:\n",
    "                for move in self.get_possible_moves(node):\n",
    "                    new_path = list(path)\n",
    "                    new_path.append(move)\n",
    "                    queue.append(new_path)\n",
    "                    if move == self.end_position:\n",
    "                        return new_path\n",
    "                visited.add(node)\n",
    "    def dfs(self):\n",
    "        visited = set()\n",
    "\n",
    "        stack =[[self.current_position]]\n",
    "\n",
    "        while stack:\n",
    "            path = stack.pop()\n",
    "            node = path[-1]\n",
    "            if node not in visited:\n",
    "                for move in reversed(self.get_possible_moves(node)):\n",
    "                    new_path = list(path)\n",
    "                    new_path.append(move)\n",
    "                    stack.append(new_path)\n",
    "                    if move == self.end_position:\n",
    "                        return new_path\n",
    "                visited.add(node)\n"
   ]
  },
  {
   "cell_type": "code",
   "execution_count": 32,
   "metadata": {},
   "outputs": [],
   "source": [
    "agent1 = Agent(maze_dict)\n",
    "path_bfs = agent1.bfs()\n",
    "path_bfs.remove(path_bfs[0])\n",
    "path_bfs.remove(path_bfs[-1])\n",
    "\n",
    "\n",
    "path_dfs = agent1.dfs()\n",
    "path_dfs.remove(path_dfs[0])\n",
    "path_dfs.remove(path_dfs[-1])\n",
    "\n",
    "\n"
   ]
  },
  {
   "cell_type": "code",
   "execution_count": 33,
   "metadata": {},
   "outputs": [],
   "source": [
    "# Visualize the path\n",
    "\n",
    "def Visualize_path(path, maze_dict):\n",
    "    max_row = max(maze_dict.keys(), key = lambda x: x[0])[0]+1\n",
    "    max_col = max(maze_dict.keys(), key = lambda x: x[1])[1]+1\n",
    "\n",
    "    image = np.zeros((max_row, max_col, 3), dtype = np.uint8)\n",
    "\n",
    "    colors = {'#': [0,0,0], ' ': [255,255,255], 'S': [0,255,0], 'E': [255,0,0], 'X': [0,0,255]}\n",
    "\n",
    "    for (row,col), state in maze_dict.items():\n",
    "        color = colors.get(state, [255,255,255])\n",
    "        image[row, col] = color\n",
    "\n",
    "    \n",
    "    for position in path:\n",
    "        image[position] = colors['X']\n",
    "\n",
    "    plt.imshow(image)\n",
    "    plt.axis('off')\n",
    "    plt.title('Maze Visualization')\n",
    "    plt.show()\n",
    "    \n"
   ]
  },
  {
   "cell_type": "code",
   "execution_count": null,
   "metadata": {},
   "outputs": [],
   "source": []
  },
  {
   "cell_type": "code",
   "execution_count": null,
   "metadata": {},
   "outputs": [],
   "source": []
  },
  {
   "cell_type": "markdown",
   "metadata": {},
   "source": [
    "## Visualize the bfs path"
   ]
  },
  {
   "cell_type": "code",
   "execution_count": 34,
   "metadata": {},
   "outputs": [
    {
     "data": {
      "image/png": "[encoded data removed]",
      "text/plain": [
       "<Figure size 640x480 with 1 Axes>"
      ]
     },
     "metadata": {},
     "output_type": "display_data"
    }
   ],
   "source": [
    "Visualize_path(path_bfs, maze_dict)"
   ]
  },
  {
   "cell_type": "markdown",
   "metadata": {},
   "source": [
    "## Visualize the dfs path \n"
   ]
  },
  {
   "cell_type": "code",
   "execution_count": 35,
   "metadata": {},
   "outputs": [
    {
     "data": {
      "image/png": "[encoded data removed]",
      "text/plain": [
       "<Figure size 640x480 with 1 Axes>"
      ]
     },
     "metadata": {},
     "output_type": "display_data"
    }
   ],
   "source": [
    "Visualize_path(path_dfs, maze_dict)"
   ]
  },
  {
   "cell_type": "markdown",
   "metadata": {},
   "source": [
    "## We load maze3.txt\n"
   ]
  },
  {
   "cell_type": "code",
   "execution_count": 36,
   "metadata": {},
   "outputs": [],
   "source": [
    "maze, rows, cols = load_maze('Mazes/maze3.txt')\n",
    "maze_dict = generate_coordinates(maze,rows, cols)\n",
    "agent2 = Agent(maze_dict)\n",
    "path_bfs = agent2.bfs()\n",
    "\n",
    "path_bfs.remove(path_bfs[0])\n",
    "path_bfs.remove(path_bfs[-1])\n",
    "\n",
    "\n",
    "path_dfs = agent2.dfs()\n",
    "path_dfs.remove(path_dfs[0])\n",
    "path_dfs.remove(path_dfs[-1])\n",
    "\n",
    "\n"
   ]
  },
  {
   "cell_type": "markdown",
   "metadata": {},
   "source": [
    "## Visualize the maze3.txt"
   ]
  },
  {
   "cell_type": "code",
   "execution_count": 37,
   "metadata": {},
   "outputs": [
    {
     "data": {
      "image/png": "[encoded data removed]",
      "text/plain": [
       "<Figure size 640x480 with 1 Axes>"
      ]
     },
     "metadata": {},
     "output_type": "display_data"
    }
   ],
   "source": [
    "generate_maze_image(maze_dict)"
   ]
  },
  {
   "cell_type": "markdown",
   "metadata": {},
   "source": [
    "## Visualize the bfs path of the maze3.txt"
   ]
  },
  {
   "cell_type": "code",
   "execution_count": 38,
   "metadata": {},
   "outputs": [
    {
     "data": {
      "image/png": "[encoded data removed]",
      "text/plain": [
       "<Figure size 640x480 with 1 Axes>"
      ]
     },
     "metadata": {},
     "output_type": "display_data"
    }
   ],
   "source": [
    "Visualize_path(path_bfs, maze_dict)"
   ]
  },
  {
   "cell_type": "markdown",
   "metadata": {},
   "source": [
    "## Visualize the dfs path "
   ]
  },
  {
   "cell_type": "code",
   "execution_count": 39,
   "metadata": {},
   "outputs": [
    {
     "data": {
      "image/png": "[encoded data removed]",
      "text/plain": [
       "<Figure size 640x480 with 1 Axes>"
      ]
     },
     "metadata": {},
     "output_type": "display_data"
    }
   ],
   "source": [
    "Visualize_path(path_dfs, maze_dict)"
   ]
  }
 ],
 "metadata": {
  "kernelspec": {
   "display_name": ".venv",
   "language": "python",
   "name": "python3"
  },
  "language_info": {
   "codemirror_mode": {
    "name": "ipython",
    "version": 3
   },
   "file_extension": ".py",
   "mimetype": "text/x-python",
   "name": "python",
   "nbconvert_exporter": "python",
   "pygments_lexer": "ipython3",
   "version": "3.10.2"
  }
 },
 "nbformat": 4,
 "nbformat_minor": 2
}
